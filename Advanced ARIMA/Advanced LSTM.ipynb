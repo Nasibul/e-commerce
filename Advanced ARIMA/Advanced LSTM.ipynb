{
 "cells": [
  {
   "cell_type": "markdown",
   "metadata": {},
   "source": [
    "# Imports"
   ]
  },
  {
   "cell_type": "code",
   "execution_count": null,
   "metadata": {},
   "outputs": [],
   "source": [
    "from utils import *\n",
    "import tensorflow as tf\n",
    "from tensorflow import keras\n",
    "import pickle\n",
    "from datetime import datetime as dt\n",
    "import pandas as pd\n",
    "import numpy as np\n",
    "from sklearn.model_selection import train_test_split\n",
    "from sklearn.metrics import mean_absolute_error, mean_squared_error, r2_score, mean_squared_log_error, mean_absolute_percentage_error\n",
    "import matplotlib.pyplot as plt\n",
    "import keras_tuner\n",
    "import warnings\n",
    "import calendar\n",
    "import collections.abc\n",
    "collections.Iterable = collections.abc.Iterable\n",
    "warnings.filterwarnings(\"ignore\")\n",
    "import tensorflow_addons as tfa"
   ]
  },
  {
   "cell_type": "code",
   "execution_count": null,
   "metadata": {},
   "outputs": [],
   "source": [
    "print(tf.config.list_physical_devices('GPU'))"
   ]
  },
  {
   "cell_type": "code",
   "execution_count": null,
   "metadata": {},
   "outputs": [],
   "source": [
    "%load_ext tensorboard"
   ]
  },
  {
   "attachments": {},
   "cell_type": "markdown",
   "metadata": {},
   "source": [
    "## Deeper Model"
   ]
  },
  {
   "cell_type": "code",
   "execution_count": null,
   "metadata": {},
   "outputs": [],
   "source": [
    "X = pd.concat([exog, train], axis=1)\n",
    "Y = X.shift(-1, fill_value=0)\n",
    "X_train, X_test, y_train, y_test, X_test_copy, X_test_index = data_prep(X, Y)"
   ]
  },
  {
   "cell_type": "code",
   "execution_count": null,
   "metadata": {},
   "outputs": [],
   "source": [
    "def model1(hp):\n",
    "    dummy_model = keras.models.Sequential([\n",
    "        keras.layers.LSTM(50, return_sequences=True, input_shape=[X_train.shape[1], X_train.shape[2]]),\n",
    "        keras.layers.LSTM(50, return_sequences=True),\n",
    "        keras.layers.LSTM(50, return_sequences=True),\n",
    "        keras.layers.LSTM(50, return_sequences=True),\n",
    "        keras.layers.LSTM(50, return_sequences=True),\n",
    "        keras.layers.LSTM(50, return_sequences=True),\n",
    "        keras.layers.Dense(1, activation='relu')\n",
    "    ])\n",
    "    lr = hp.Choice('learning_rate', learning_rates)\n",
    "    optimizer = hp.Choice('optimizer', ['adam', 'sgd'])\n",
    "    opt_dict = {'adam':tf.keras.optimizers.Adam(learning_rate=lr), 'sgd': tf.keras.optimizers.SGD(learning_rate=lr)}\n",
    "    dummy_model.compile(loss=keras.losses.MeanSquaredLogarithmicError(), optimizer=opt_dict[optimizer])\n",
    "    return dummy_model"
   ]
  },
  {
   "cell_type": "code",
   "execution_count": null,
   "metadata": {},
   "outputs": [],
   "source": [
    "experiment(X_train, X_test, y_train, y_test, X_test_copy, X_test_index, model1)"
   ]
  },
  {
   "attachments": {},
   "cell_type": "markdown",
   "metadata": {},
   "source": [
    "## Wider Deep Network"
   ]
  },
  {
   "cell_type": "code",
   "execution_count": null,
   "metadata": {},
   "outputs": [],
   "source": [
    "X = pd.concat([exog, train], axis=1)\n",
    "Y = X.shift(-1, fill_value=0)\n",
    "X_train, X_test, y_train, y_test, X_test_copy, X_test_index = data_prep(X, Y)"
   ]
  },
  {
   "cell_type": "code",
   "execution_count": null,
   "metadata": {},
   "outputs": [],
   "source": [
    "def model2(hp):\n",
    "    dummy_model = keras.models.Sequential([\n",
    "        keras.layers.LSTM(200, return_sequences=True, input_shape=[X_train.shape[1], X_train.shape[2]]),\n",
    "        keras.layers.LSTM(200, return_sequences=True),\n",
    "        keras.layers.LSTM(200, return_sequences=True),\n",
    "        keras.layers.LSTM(200, return_sequences=True),\n",
    "        keras.layers.LSTM(200, return_sequences=True),\n",
    "        keras.layers.LSTM(200, return_sequences=True),\n",
    "        keras.layers.Dense(1, activation='relu')\n",
    "    ])\n",
    "    lr = hp.Choice('learning_rate', learning_rates)\n",
    "    optimizer = hp.Choice('optimizer', ['adam', 'sgd'])\n",
    "    opt_dict = {'adam':tf.keras.optimizers.Adam(learning_rate=lr), 'sgd': tf.keras.optimizers.SGD(learning_rate=lr)}\n",
    "    dummy_model.compile(loss=keras.losses.MeanSquaredLogarithmicError(), optimizer=opt_dict[optimizer])\n",
    "    return dummy_model"
   ]
  },
  {
   "cell_type": "code",
   "execution_count": null,
   "metadata": {},
   "outputs": [],
   "source": [
    "experiment(X_train, X_test, y_train, y_test, X_test_copy, X_test_index, model2)"
   ]
  },
  {
   "attachments": {},
   "cell_type": "markdown",
   "metadata": {},
   "source": [
    "## Implementing Layer Normalization"
   ]
  },
  {
   "cell_type": "code",
   "execution_count": null,
   "metadata": {},
   "outputs": [],
   "source": [
    "X = pd.concat([exog, train], axis=1)\n",
    "Y = X.shift(-1, fill_value=0)\n",
    "X_train, X_test, y_train, y_test , X_test_copy, X_test_index = data_prep(X, Y)"
   ]
  },
  {
   "cell_type": "code",
   "execution_count": null,
   "metadata": {},
   "outputs": [],
   "source": [
    "def model3(hp):\n",
    "    dummy_model = keras.models.Sequential([\n",
    "        keras.layers.RNN(tfa.rnn.LayerNormLSTMCell(100), return_sequences=True, input_shape=[X_train.shape[1], X_train.shape[2]]),\n",
    "        keras.layers.Dense(1, activation='relu')\n",
    "    ])\n",
    "    lr = hp.Choice('learning_rate', learning_rates)\n",
    "    optimizer = hp.Choice('optimizer', ['adam', 'sgd'])\n",
    "    opt_dict = {'adam':tf.keras.optimizers.Adam(learning_rate=lr), 'sgd': tf.keras.optimizers.SGD(learning_rate=lr)}\n",
    "    dummy_model.compile(loss=keras.losses.MeanSquaredLogarithmicError(), optimizer=opt_dict[optimizer])\n",
    "    return dummy_model"
   ]
  },
  {
   "cell_type": "code",
   "execution_count": null,
   "metadata": {},
   "outputs": [],
   "source": [
    "experiment(X_train, X_test, y_train, y_test, X_test_copy, X_test_index, model3)"
   ]
  }
 ],
 "metadata": {
  "kernelspec": {
   "display_name": "Python 3",
   "language": "python",
   "name": "python3"
  },
  "language_info": {
   "codemirror_mode": {
    "name": "ipython",
    "version": 3
   },
   "file_extension": ".py",
   "mimetype": "text/x-python",
   "name": "python",
   "nbconvert_exporter": "python",
   "pygments_lexer": "ipython3",
   "version": "3.10.6"
  },
  "orig_nbformat": 4
 },
 "nbformat": 4,
 "nbformat_minor": 2
}
